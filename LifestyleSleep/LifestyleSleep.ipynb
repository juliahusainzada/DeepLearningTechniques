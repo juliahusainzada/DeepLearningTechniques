{
 "cells": [
  {
   "cell_type": "markdown",
   "metadata": {},
   "source": [
    "Import necessary libraries"
   ]
  },
  {
   "cell_type": "code",
   "execution_count": 1,
   "metadata": {},
   "outputs": [],
   "source": [
    "import pandas as pd\n",
    "import numpy as np\n",
    "\n",
    "from sklearn.model_selection import train_test_split\n",
    "from sklearn.model_selection import StratifiedKFold\n",
    "from sklearn.metrics import accuracy_score, roc_auc_score, f1_score, confusion_matrix, classification_report\n",
    "\n",
    "import tensorflow as tf\n",
    "from tensorflow import keras\n",
    "\n",
    "import seaborn as sns\n",
    "import matplotlib.pyplot as plt"
   ]
  },
  {
   "cell_type": "markdown",
   "metadata": {},
   "source": [
    "### Understand the Data"
   ]
  },
  {
   "cell_type": "code",
   "execution_count": 2,
   "metadata": {},
   "outputs": [
    {
     "name": "stdout",
     "output_type": "stream",
     "text": [
      "<class 'pandas.core.frame.DataFrame'>\n",
      "RangeIndex: 374 entries, 0 to 373\n",
      "Data columns (total 13 columns):\n",
      " #   Column                   Non-Null Count  Dtype  \n",
      "---  ------                   --------------  -----  \n",
      " 0   Person ID                374 non-null    int64  \n",
      " 1   Gender                   374 non-null    object \n",
      " 2   Age                      374 non-null    int64  \n",
      " 3   Occupation               374 non-null    object \n",
      " 4   Sleep Duration           374 non-null    float64\n",
      " 5   Quality of Sleep         374 non-null    int64  \n",
      " 6   Physical Activity Level  374 non-null    int64  \n",
      " 7   Stress Level             374 non-null    int64  \n",
      " 8   BMI Category             374 non-null    object \n",
      " 9   Blood Pressure           374 non-null    object \n",
      " 10  Heart Rate               374 non-null    int64  \n",
      " 11  Daily Steps              374 non-null    int64  \n",
      " 12  Sleep Disorder           155 non-null    object \n",
      "dtypes: float64(1), int64(7), object(5)\n",
      "memory usage: 38.1+ KB\n",
      "None\n",
      "----------------------------------------------\n",
      "        Person ID         Age  Sleep Duration  Quality of Sleep  \\\n",
      "count  374.000000  374.000000      374.000000        374.000000   \n",
      "mean   187.500000   42.184492        7.132086          7.312834   \n",
      "std    108.108742    8.673133        0.795657          1.196956   \n",
      "min      1.000000   27.000000        5.800000          4.000000   \n",
      "25%     94.250000   35.250000        6.400000          6.000000   \n",
      "50%    187.500000   43.000000        7.200000          7.000000   \n",
      "75%    280.750000   50.000000        7.800000          8.000000   \n",
      "max    374.000000   59.000000        8.500000          9.000000   \n",
      "\n",
      "       Physical Activity Level  Stress Level  Heart Rate   Daily Steps  \n",
      "count               374.000000    374.000000  374.000000    374.000000  \n",
      "mean                 59.171123      5.385027   70.165775   6816.844920  \n",
      "std                  20.830804      1.774526    4.135676   1617.915679  \n",
      "min                  30.000000      3.000000   65.000000   3000.000000  \n",
      "25%                  45.000000      4.000000   68.000000   5600.000000  \n",
      "50%                  60.000000      5.000000   70.000000   7000.000000  \n",
      "75%                  75.000000      7.000000   72.000000   8000.000000  \n",
      "max                  90.000000      8.000000   86.000000  10000.000000  \n",
      "----------------------------------------------\n",
      "Person ID                    0\n",
      "Gender                       0\n",
      "Age                          0\n",
      "Occupation                   0\n",
      "Sleep Duration               0\n",
      "Quality of Sleep             0\n",
      "Physical Activity Level      0\n",
      "Stress Level                 0\n",
      "BMI Category                 0\n",
      "Blood Pressure               0\n",
      "Heart Rate                   0\n",
      "Daily Steps                  0\n",
      "Sleep Disorder             219\n",
      "dtype: int64\n",
      "----------------------------------------------\n"
     ]
    }
   ],
   "source": [
    "df = pd.read_csv('Sleep_health_and_lifestyle_dataset.csv')\n",
    "\n",
    "print(df.info())\n",
    "print(\"----------------------------------------------\")\n",
    "\n",
    "print(df.describe())\n",
    "print(\"----------------------------------------------\")\n",
    "\n",
    "print(df.isnull().sum())\n",
    "print(\"----------------------------------------------\")"
   ]
  },
  {
   "cell_type": "markdown",
   "metadata": {},
   "source": [
    "### Transform our Data"
   ]
  },
  {
   "cell_type": "markdown",
   "metadata": {},
   "source": [
    "We need to replace NaN values with \"None\", to represent no sleeping disorder."
   ]
  },
  {
   "cell_type": "code",
   "execution_count": 3,
   "metadata": {},
   "outputs": [
    {
     "data": {
      "text/plain": [
       "0             None\n",
       "1             None\n",
       "2             None\n",
       "3      Sleep Apnea\n",
       "4      Sleep Apnea\n",
       "          ...     \n",
       "369    Sleep Apnea\n",
       "370    Sleep Apnea\n",
       "371    Sleep Apnea\n",
       "372    Sleep Apnea\n",
       "373    Sleep Apnea\n",
       "Name: Sleep Disorder, Length: 374, dtype: object"
      ]
     },
     "execution_count": 3,
     "metadata": {},
     "output_type": "execute_result"
    }
   ],
   "source": [
    "df = df.copy()\n",
    "\n",
    "df[\"Sleep Disorder\"] = df[\"Sleep Disorder\"].fillna(\"None\")\n",
    "\n",
    "df['Sleep Disorder']"
   ]
  },
  {
   "cell_type": "markdown",
   "metadata": {},
   "source": [
    "Transform Object labels to numerical values\n",
    "- 0: Doesn't have sleep disorder\n",
    "- 1: Has sleep disorder"
   ]
  },
  {
   "cell_type": "code",
   "execution_count": 4,
   "metadata": {},
   "outputs": [
    {
     "name": "stdout",
     "output_type": "stream",
     "text": [
      "0\n"
     ]
    }
   ],
   "source": [
    "print(df['Sleep Disorder'].isna().sum())\n",
    "\n",
    "# Create Binary Label\n",
    "df[\"target\"] = df[\"Sleep Disorder\"].apply(\n",
    "    lambda x: 0 if str(x).strip().lower() in [\"none\"] else 1\n",
    ").astype(int)"
   ]
  },
  {
   "cell_type": "code",
   "execution_count": 5,
   "metadata": {},
   "outputs": [
    {
     "name": "stdout",
     "output_type": "stream",
     "text": [
      "Index(['Person ID', 'Gender', 'Age', 'Occupation', 'Sleep Duration',\n",
      "       'Quality of Sleep', 'Physical Activity Level', 'Stress Level',\n",
      "       'BMI Category', 'Blood Pressure', 'Heart Rate', 'Daily Steps',\n",
      "       'Sleep Disorder', 'target'],\n",
      "      dtype='object')\n",
      "0    0\n",
      "1    0\n",
      "2    0\n",
      "3    1\n",
      "4    1\n",
      "Name: target, dtype: int64\n"
     ]
    }
   ],
   "source": [
    "# Check\n",
    "print(df.columns)\n",
    "print(df['target'][:5])"
   ]
  },
  {
   "cell_type": "markdown",
   "metadata": {},
   "source": [
    "#### Preprocessing: Transform Categorical Values to Numerical "
   ]
  },
  {
   "cell_type": "code",
   "execution_count": 6,
   "metadata": {},
   "outputs": [
    {
     "data": {
      "text/html": [
       "<div>\n",
       "<style scoped>\n",
       "    .dataframe tbody tr th:only-of-type {\n",
       "        vertical-align: middle;\n",
       "    }\n",
       "\n",
       "    .dataframe tbody tr th {\n",
       "        vertical-align: top;\n",
       "    }\n",
       "\n",
       "    .dataframe thead th {\n",
       "        text-align: right;\n",
       "    }\n",
       "</style>\n",
       "<table border=\"1\" class=\"dataframe\">\n",
       "  <thead>\n",
       "    <tr style=\"text-align: right;\">\n",
       "      <th></th>\n",
       "      <th>Person ID</th>\n",
       "      <th>Gender</th>\n",
       "      <th>Age</th>\n",
       "      <th>Occupation</th>\n",
       "      <th>Sleep Duration</th>\n",
       "      <th>Quality of Sleep</th>\n",
       "      <th>Physical Activity Level</th>\n",
       "      <th>Stress Level</th>\n",
       "      <th>BMI Category</th>\n",
       "      <th>Blood Pressure</th>\n",
       "      <th>Heart Rate</th>\n",
       "      <th>Daily Steps</th>\n",
       "      <th>Sleep Disorder</th>\n",
       "      <th>target</th>\n",
       "    </tr>\n",
       "  </thead>\n",
       "  <tbody>\n",
       "    <tr>\n",
       "      <th>0</th>\n",
       "      <td>1</td>\n",
       "      <td>Male</td>\n",
       "      <td>27</td>\n",
       "      <td>Software Engineer</td>\n",
       "      <td>6.1</td>\n",
       "      <td>6</td>\n",
       "      <td>42</td>\n",
       "      <td>6</td>\n",
       "      <td>Overweight</td>\n",
       "      <td>126/83</td>\n",
       "      <td>77</td>\n",
       "      <td>4200</td>\n",
       "      <td>None</td>\n",
       "      <td>0</td>\n",
       "    </tr>\n",
       "    <tr>\n",
       "      <th>1</th>\n",
       "      <td>2</td>\n",
       "      <td>Male</td>\n",
       "      <td>28</td>\n",
       "      <td>Doctor</td>\n",
       "      <td>6.2</td>\n",
       "      <td>6</td>\n",
       "      <td>60</td>\n",
       "      <td>8</td>\n",
       "      <td>Normal</td>\n",
       "      <td>125/80</td>\n",
       "      <td>75</td>\n",
       "      <td>10000</td>\n",
       "      <td>None</td>\n",
       "      <td>0</td>\n",
       "    </tr>\n",
       "    <tr>\n",
       "      <th>2</th>\n",
       "      <td>3</td>\n",
       "      <td>Male</td>\n",
       "      <td>28</td>\n",
       "      <td>Doctor</td>\n",
       "      <td>6.2</td>\n",
       "      <td>6</td>\n",
       "      <td>60</td>\n",
       "      <td>8</td>\n",
       "      <td>Normal</td>\n",
       "      <td>125/80</td>\n",
       "      <td>75</td>\n",
       "      <td>10000</td>\n",
       "      <td>None</td>\n",
       "      <td>0</td>\n",
       "    </tr>\n",
       "    <tr>\n",
       "      <th>3</th>\n",
       "      <td>4</td>\n",
       "      <td>Male</td>\n",
       "      <td>28</td>\n",
       "      <td>Sales Representative</td>\n",
       "      <td>5.9</td>\n",
       "      <td>4</td>\n",
       "      <td>30</td>\n",
       "      <td>8</td>\n",
       "      <td>Obese</td>\n",
       "      <td>140/90</td>\n",
       "      <td>85</td>\n",
       "      <td>3000</td>\n",
       "      <td>Sleep Apnea</td>\n",
       "      <td>1</td>\n",
       "    </tr>\n",
       "    <tr>\n",
       "      <th>4</th>\n",
       "      <td>5</td>\n",
       "      <td>Male</td>\n",
       "      <td>28</td>\n",
       "      <td>Sales Representative</td>\n",
       "      <td>5.9</td>\n",
       "      <td>4</td>\n",
       "      <td>30</td>\n",
       "      <td>8</td>\n",
       "      <td>Obese</td>\n",
       "      <td>140/90</td>\n",
       "      <td>85</td>\n",
       "      <td>3000</td>\n",
       "      <td>Sleep Apnea</td>\n",
       "      <td>1</td>\n",
       "    </tr>\n",
       "  </tbody>\n",
       "</table>\n",
       "</div>"
      ],
      "text/plain": [
       "   Person ID Gender  Age            Occupation  Sleep Duration  \\\n",
       "0          1   Male   27     Software Engineer             6.1   \n",
       "1          2   Male   28                Doctor             6.2   \n",
       "2          3   Male   28                Doctor             6.2   \n",
       "3          4   Male   28  Sales Representative             5.9   \n",
       "4          5   Male   28  Sales Representative             5.9   \n",
       "\n",
       "   Quality of Sleep  Physical Activity Level  Stress Level BMI Category  \\\n",
       "0                 6                       42             6   Overweight   \n",
       "1                 6                       60             8       Normal   \n",
       "2                 6                       60             8       Normal   \n",
       "3                 4                       30             8        Obese   \n",
       "4                 4                       30             8        Obese   \n",
       "\n",
       "  Blood Pressure  Heart Rate  Daily Steps Sleep Disorder  target  \n",
       "0         126/83          77         4200           None       0  \n",
       "1         125/80          75        10000           None       0  \n",
       "2         125/80          75        10000           None       0  \n",
       "3         140/90          85         3000    Sleep Apnea       1  \n",
       "4         140/90          85         3000    Sleep Apnea       1  "
      ]
     },
     "execution_count": 6,
     "metadata": {},
     "output_type": "execute_result"
    }
   ],
   "source": [
    "df.head()"
   ]
  },
  {
   "cell_type": "markdown",
   "metadata": {},
   "source": [
    "#### BMI Category Encoding\n",
    "- Standardize category names\n",
    "- One-hot encoding with drop_first=True\n",
    "- Results in: BMI_Obese, BMI_Overweight (Normal is reference category)"
   ]
  },
  {
   "cell_type": "code",
   "execution_count": 7,
   "metadata": {},
   "outputs": [
    {
     "name": "stdout",
     "output_type": "stream",
     "text": [
      "['Overweight' 'Normal' 'Obese' 'Normal Weight']\n",
      "['Overweight' 'Normal' 'Obese']\n"
     ]
    },
    {
     "data": {
      "text/plain": [
       "Index(['Person ID', 'Gender', 'Age', 'Occupation', 'Sleep Duration',\n",
       "       'Quality of Sleep', 'Physical Activity Level', 'Stress Level',\n",
       "       'Blood Pressure', 'Heart Rate', 'Daily Steps', 'Sleep Disorder',\n",
       "       'target', 'BMI_Obese', 'BMI_Overweight'],\n",
       "      dtype='object')"
      ]
     },
     "execution_count": 7,
     "metadata": {},
     "output_type": "execute_result"
    }
   ],
   "source": [
    "print(df[\"BMI Category\"].unique())\n",
    "\n",
    "df[\"BMI Category\"] = df[\"BMI Category\"].replace({\n",
    "    \"Normal Weight\": \"Normal\"\n",
    "})\n",
    "\n",
    "print(df[\"BMI Category\"].unique())\n",
    "\n",
    "# One hot encoding\n",
    "bmi_encoded = pd.get_dummies(df[\"BMI Category\"], prefix=\"BMI\", drop_first=True).astype(int)\n",
    "df = pd.concat([df, bmi_encoded], axis=1)\n",
    "df = df.drop(columns=[\"BMI Category\"])\n",
    "\n",
    "df.columns"
   ]
  },
  {
   "cell_type": "markdown",
   "metadata": {},
   "source": [
    "#### Gender Encoding\n",
    "Results in Gender_Male (Female is reference category)"
   ]
  },
  {
   "cell_type": "code",
   "execution_count": 8,
   "metadata": {},
   "outputs": [
    {
     "name": "stdout",
     "output_type": "stream",
     "text": [
      "['Male' 'Female']\n",
      "Index(['Person ID', 'Gender', 'Age', 'Occupation', 'Sleep Duration',\n",
      "       'Quality of Sleep', 'Physical Activity Level', 'Stress Level',\n",
      "       'Blood Pressure', 'Heart Rate', 'Daily Steps', 'Sleep Disorder',\n",
      "       'target', 'BMI_Obese', 'BMI_Overweight', 'Gender_Male'],\n",
      "      dtype='object')\n"
     ]
    },
    {
     "data": {
      "text/html": [
       "<div>\n",
       "<style scoped>\n",
       "    .dataframe tbody tr th:only-of-type {\n",
       "        vertical-align: middle;\n",
       "    }\n",
       "\n",
       "    .dataframe tbody tr th {\n",
       "        vertical-align: top;\n",
       "    }\n",
       "\n",
       "    .dataframe thead th {\n",
       "        text-align: right;\n",
       "    }\n",
       "</style>\n",
       "<table border=\"1\" class=\"dataframe\">\n",
       "  <thead>\n",
       "    <tr style=\"text-align: right;\">\n",
       "      <th></th>\n",
       "      <th>Person ID</th>\n",
       "      <th>Gender</th>\n",
       "      <th>Age</th>\n",
       "      <th>Occupation</th>\n",
       "      <th>Sleep Duration</th>\n",
       "      <th>Quality of Sleep</th>\n",
       "      <th>Physical Activity Level</th>\n",
       "      <th>Stress Level</th>\n",
       "      <th>Blood Pressure</th>\n",
       "      <th>Heart Rate</th>\n",
       "      <th>Daily Steps</th>\n",
       "      <th>Sleep Disorder</th>\n",
       "      <th>target</th>\n",
       "      <th>BMI_Obese</th>\n",
       "      <th>BMI_Overweight</th>\n",
       "      <th>Gender_Male</th>\n",
       "    </tr>\n",
       "  </thead>\n",
       "  <tbody>\n",
       "    <tr>\n",
       "      <th>0</th>\n",
       "      <td>1</td>\n",
       "      <td>Male</td>\n",
       "      <td>27</td>\n",
       "      <td>Software Engineer</td>\n",
       "      <td>6.1</td>\n",
       "      <td>6</td>\n",
       "      <td>42</td>\n",
       "      <td>6</td>\n",
       "      <td>126/83</td>\n",
       "      <td>77</td>\n",
       "      <td>4200</td>\n",
       "      <td>None</td>\n",
       "      <td>0</td>\n",
       "      <td>0</td>\n",
       "      <td>1</td>\n",
       "      <td>1</td>\n",
       "    </tr>\n",
       "    <tr>\n",
       "      <th>1</th>\n",
       "      <td>2</td>\n",
       "      <td>Male</td>\n",
       "      <td>28</td>\n",
       "      <td>Doctor</td>\n",
       "      <td>6.2</td>\n",
       "      <td>6</td>\n",
       "      <td>60</td>\n",
       "      <td>8</td>\n",
       "      <td>125/80</td>\n",
       "      <td>75</td>\n",
       "      <td>10000</td>\n",
       "      <td>None</td>\n",
       "      <td>0</td>\n",
       "      <td>0</td>\n",
       "      <td>0</td>\n",
       "      <td>1</td>\n",
       "    </tr>\n",
       "    <tr>\n",
       "      <th>2</th>\n",
       "      <td>3</td>\n",
       "      <td>Male</td>\n",
       "      <td>28</td>\n",
       "      <td>Doctor</td>\n",
       "      <td>6.2</td>\n",
       "      <td>6</td>\n",
       "      <td>60</td>\n",
       "      <td>8</td>\n",
       "      <td>125/80</td>\n",
       "      <td>75</td>\n",
       "      <td>10000</td>\n",
       "      <td>None</td>\n",
       "      <td>0</td>\n",
       "      <td>0</td>\n",
       "      <td>0</td>\n",
       "      <td>1</td>\n",
       "    </tr>\n",
       "    <tr>\n",
       "      <th>3</th>\n",
       "      <td>4</td>\n",
       "      <td>Male</td>\n",
       "      <td>28</td>\n",
       "      <td>Sales Representative</td>\n",
       "      <td>5.9</td>\n",
       "      <td>4</td>\n",
       "      <td>30</td>\n",
       "      <td>8</td>\n",
       "      <td>140/90</td>\n",
       "      <td>85</td>\n",
       "      <td>3000</td>\n",
       "      <td>Sleep Apnea</td>\n",
       "      <td>1</td>\n",
       "      <td>1</td>\n",
       "      <td>0</td>\n",
       "      <td>1</td>\n",
       "    </tr>\n",
       "    <tr>\n",
       "      <th>4</th>\n",
       "      <td>5</td>\n",
       "      <td>Male</td>\n",
       "      <td>28</td>\n",
       "      <td>Sales Representative</td>\n",
       "      <td>5.9</td>\n",
       "      <td>4</td>\n",
       "      <td>30</td>\n",
       "      <td>8</td>\n",
       "      <td>140/90</td>\n",
       "      <td>85</td>\n",
       "      <td>3000</td>\n",
       "      <td>Sleep Apnea</td>\n",
       "      <td>1</td>\n",
       "      <td>1</td>\n",
       "      <td>0</td>\n",
       "      <td>1</td>\n",
       "    </tr>\n",
       "  </tbody>\n",
       "</table>\n",
       "</div>"
      ],
      "text/plain": [
       "   Person ID Gender  Age            Occupation  Sleep Duration  \\\n",
       "0          1   Male   27     Software Engineer             6.1   \n",
       "1          2   Male   28                Doctor             6.2   \n",
       "2          3   Male   28                Doctor             6.2   \n",
       "3          4   Male   28  Sales Representative             5.9   \n",
       "4          5   Male   28  Sales Representative             5.9   \n",
       "\n",
       "   Quality of Sleep  Physical Activity Level  Stress Level Blood Pressure  \\\n",
       "0                 6                       42             6         126/83   \n",
       "1                 6                       60             8         125/80   \n",
       "2                 6                       60             8         125/80   \n",
       "3                 4                       30             8         140/90   \n",
       "4                 4                       30             8         140/90   \n",
       "\n",
       "   Heart Rate  Daily Steps Sleep Disorder  target  BMI_Obese  BMI_Overweight  \\\n",
       "0          77         4200           None       0          0               1   \n",
       "1          75        10000           None       0          0               0   \n",
       "2          75        10000           None       0          0               0   \n",
       "3          85         3000    Sleep Apnea       1          1               0   \n",
       "4          85         3000    Sleep Apnea       1          1               0   \n",
       "\n",
       "   Gender_Male  \n",
       "0            1  \n",
       "1            1  \n",
       "2            1  \n",
       "3            1  \n",
       "4            1  "
      ]
     },
     "execution_count": 8,
     "metadata": {},
     "output_type": "execute_result"
    }
   ],
   "source": [
    "print(df['Gender'].unique())\n",
    "\n",
    "gender_encoded = pd.get_dummies(df[\"Gender\"], prefix=\"Gender\", drop_first=True).astype(int)\n",
    "df = pd.concat([df, gender_encoded], axis=1)\n",
    "print(df.columns)\n",
    "df.head(5)"
   ]
  },
  {
   "cell_type": "markdown",
   "metadata": {},
   "source": [
    "#### Blood Pressure Feature Engineering\n",
    "Blood pressure string (e.g., \"120/80\") decomposed into multiple informative features:\n",
    "\n",
    "**Numeric Components:**\n",
    "- **BP_Systolic** = extracted from \"120/80\" → 120\n",
    "- **BP_Diastolic** = extracted from \"120/80\" → 80\n",
    "- **Pulse_Pressure** = Systolic - Diastolic\n",
    "- **Mean Arterial Pressure** = Diastolic + (Pulse_Pressure / 3.0)\n",
    "\n",
    "**Clinical Category Flags (Mutually Exclusive):**\n",
    "- **BP_Normal**: Systolic < 120 AND Diastolic < 80\n",
    "- **BP_Elevated**: Systolic 120-129 AND Diastolic < 80\n",
    "- **BP_HTN1**: Systolic 130-139 OR Diastolic 80-89 (Stage 1 Hypertension)\n",
    "- **BP_HTN2**: Systolic ≥ 140 OR Diastolic ≥ 90 (Stage 2 Hypertension)\n",
    "- **BP_Crisis**: Systolic ≥ 180 OR Diastolic ≥ 120 (Hypertensive Crisis)"
   ]
  },
  {
   "cell_type": "code",
   "execution_count": 9,
   "metadata": {},
   "outputs": [],
   "source": [
    "# 1) Parse \"120/80\" -> floats\n",
    "bp = df[\"Blood Pressure\"].astype(str).str.strip()\n",
    "bp_sys = pd.to_numeric(bp.str.split(\"/\", expand=True)[0], errors=\"coerce\")\n",
    "bp_dia = pd.to_numeric(bp.str.split(\"/\", expand=True)[1], errors=\"coerce\")\n",
    "\n",
    "df[\"BP_Systolic\"]  = bp_sys\n",
    "df[\"BP_Diastolic\"] = bp_dia\n",
    "\n",
    "# 2) Category flags (0/1)\n",
    "norm   = (df[\"BP_Systolic\"] < 120) & (df[\"BP_Diastolic\"] < 80)\n",
    "elev   = (df[\"BP_Systolic\"].between(120, 129)) & (df[\"BP_Diastolic\"] < 80)\n",
    "htn1   = (df[\"BP_Systolic\"].between(130, 139)) | (df[\"BP_Diastolic\"].between(80, 89))\n",
    "htn2   = (df[\"BP_Systolic\"] >= 140) | (df[\"BP_Diastolic\"] >= 90)\n",
    "crisis = (df[\"BP_Systolic\"] >= 180) | (df[\"BP_Diastolic\"] >= 120)\n",
    "\n",
    "df[\"BP_Normal\"]   = norm.astype(int)\n",
    "df[\"BP_Elevated\"] = (~norm & elev).astype(int)        # ensure mutually exclusive\n",
    "df[\"BP_HTN1\"]     = (~norm & ~elev & htn1).astype(int)\n",
    "df[\"BP_HTN2\"]     = (~norm & ~elev & ~htn1 & htn2).astype(int)\n",
    "df[\"BP_Crisis\"]   = crisis.astype(int)\n",
    "\n",
    "# 3) (Optional) extra numeric signals\n",
    "df[\"Pulse_Pressure\"] = df[\"BP_Systolic\"] - df[\"BP_Diastolic\"]   # often informative\n",
    "df[\"MAP\"] = df[\"BP_Diastolic\"] + (df[\"Pulse_Pressure\"] / 3.0)   # mean arterial pressure"
   ]
  },
  {
   "cell_type": "code",
   "execution_count": 10,
   "metadata": {},
   "outputs": [
    {
     "data": {
      "text/plain": [
       "Index(['Person ID', 'Gender', 'Age', 'Occupation', 'Sleep Duration',\n",
       "       'Quality of Sleep', 'Physical Activity Level', 'Stress Level',\n",
       "       'Blood Pressure', 'Heart Rate', 'Daily Steps', 'Sleep Disorder',\n",
       "       'target', 'BMI_Obese', 'BMI_Overweight', 'Gender_Male', 'BP_Systolic',\n",
       "       'BP_Diastolic', 'BP_Normal', 'BP_Elevated', 'BP_HTN1', 'BP_HTN2',\n",
       "       'BP_Crisis', 'Pulse_Pressure', 'MAP'],\n",
       "      dtype='object')"
      ]
     },
     "execution_count": 10,
     "metadata": {},
     "output_type": "execute_result"
    }
   ],
   "source": [
    "df.columns"
   ]
  },
  {
   "cell_type": "markdown",
   "metadata": {},
   "source": [
    "#### Occupation Encoding\n",
    "- One-hot encoding for all occupation categories\n",
    "- Creates binary indicators for: Doctor, Engineer, Nurse, etc."
   ]
  },
  {
   "cell_type": "code",
   "execution_count": 11,
   "metadata": {},
   "outputs": [],
   "source": [
    "occ_encoded = pd.get_dummies(df[\"Occupation\"], prefix=\"Occ\", drop_first=False, dtype=int)\n",
    "df = pd.concat([df, occ_encoded], axis=1)"
   ]
  },
  {
   "cell_type": "code",
   "execution_count": 12,
   "metadata": {},
   "outputs": [
    {
     "name": "stdout",
     "output_type": "stream",
     "text": [
      "<class 'pandas.core.frame.DataFrame'>\n",
      "RangeIndex: 374 entries, 0 to 373\n",
      "Data columns (total 36 columns):\n",
      " #   Column                    Non-Null Count  Dtype  \n",
      "---  ------                    --------------  -----  \n",
      " 0   Person ID                 374 non-null    int64  \n",
      " 1   Gender                    374 non-null    object \n",
      " 2   Age                       374 non-null    int64  \n",
      " 3   Occupation                374 non-null    object \n",
      " 4   Sleep Duration            374 non-null    float64\n",
      " 5   Quality of Sleep          374 non-null    int64  \n",
      " 6   Physical Activity Level   374 non-null    int64  \n",
      " 7   Stress Level              374 non-null    int64  \n",
      " 8   Blood Pressure            374 non-null    object \n",
      " 9   Heart Rate                374 non-null    int64  \n",
      " 10  Daily Steps               374 non-null    int64  \n",
      " 11  Sleep Disorder            374 non-null    object \n",
      " 12  target                    374 non-null    int64  \n",
      " 13  BMI_Obese                 374 non-null    int64  \n",
      " 14  BMI_Overweight            374 non-null    int64  \n",
      " 15  Gender_Male               374 non-null    int64  \n",
      " 16  BP_Systolic               374 non-null    int64  \n",
      " 17  BP_Diastolic              374 non-null    int64  \n",
      " 18  BP_Normal                 374 non-null    int64  \n",
      " 19  BP_Elevated               374 non-null    int64  \n",
      " 20  BP_HTN1                   374 non-null    int64  \n",
      " 21  BP_HTN2                   374 non-null    int64  \n",
      " 22  BP_Crisis                 374 non-null    int64  \n",
      " 23  Pulse_Pressure            374 non-null    int64  \n",
      " 24  MAP                       374 non-null    float64\n",
      " 25  Occ_Accountant            374 non-null    int64  \n",
      " 26  Occ_Doctor                374 non-null    int64  \n",
      " 27  Occ_Engineer              374 non-null    int64  \n",
      " 28  Occ_Lawyer                374 non-null    int64  \n",
      " 29  Occ_Manager               374 non-null    int64  \n",
      " 30  Occ_Nurse                 374 non-null    int64  \n",
      " 31  Occ_Sales Representative  374 non-null    int64  \n",
      " 32  Occ_Salesperson           374 non-null    int64  \n",
      " 33  Occ_Scientist             374 non-null    int64  \n",
      " 34  Occ_Software Engineer     374 non-null    int64  \n",
      " 35  Occ_Teacher               374 non-null    int64  \n",
      "dtypes: float64(2), int64(30), object(4)\n",
      "memory usage: 105.3+ KB\n"
     ]
    }
   ],
   "source": [
    "df.info()"
   ]
  },
  {
   "cell_type": "markdown",
   "metadata": {},
   "source": [
    "### Correlation Analysis"
   ]
  },
  {
   "cell_type": "code",
   "execution_count": 13,
   "metadata": {},
   "outputs": [
    {
     "name": "stdout",
     "output_type": "stream",
     "text": [
      "Correlation with target (descending):\n",
      "\n",
      "BMI_Overweight              0.751018\n",
      "BP_Diastolic                0.705025\n",
      "MAP                         0.704726\n",
      "BP_Systolic                 0.692480\n",
      "BP_HTN2                     0.506193\n",
      "Occ_Nurse                   0.462127\n",
      "Pulse_Pressure              0.451987\n",
      "Person ID                   0.446196\n",
      "Age                         0.432007\n",
      "Heart Rate                  0.330254\n",
      "Occ_Salesperson             0.324787\n",
      "Occ_Teacher                 0.253291\n",
      "BMI_Obese                   0.197018\n",
      "Stress Level                0.181685\n",
      "Occ_Sales Representative    0.087156\n",
      "Physical Activity Level     0.069787\n",
      "Occ_Scientist               0.018059\n",
      "Daily Steps                -0.026575\n",
      "Occ_Software Engineer      -0.034707\n",
      "Occ_Manager                -0.043560\n",
      "BP_Elevated                -0.043560\n",
      "Occ_Accountant             -0.151507\n",
      "Occ_Lawyer                 -0.237076\n",
      "BP_HTN1                    -0.250215\n",
      "BP_Normal                  -0.260453\n",
      "Gender_Male                -0.285824\n",
      "Occ_Engineer               -0.291633\n",
      "Occ_Doctor                 -0.310362\n",
      "Quality of Sleep           -0.310984\n",
      "Sleep Duration             -0.338622\n",
      "BP_Crisis                        NaN\n",
      "Name: target, dtype: float64\n",
      "\n",
      "Top 10 features by |correlation|:\n",
      "\n",
      "BMI_Overweight    0.751018\n",
      "BP_Diastolic      0.705025\n",
      "MAP               0.704726\n",
      "BP_Systolic       0.692480\n",
      "BP_HTN2           0.506193\n",
      "Occ_Nurse         0.462127\n",
      "Pulse_Pressure    0.451987\n",
      "Person ID         0.446196\n",
      "Age               0.432007\n",
      "Sleep Duration    0.338622\n",
      "Name: target, dtype: float64\n"
     ]
    }
   ],
   "source": [
    "# Lets see correlation to get a feeling of valuable features\n",
    "import numpy as np\n",
    "import pandas as pd\n",
    "\n",
    "# keep only numeric columns (drop text columns like Gender, Occupation, Blood Pressure, Sleep Disorder)\n",
    "num_cols = df.select_dtypes(include=[np.number]).columns\n",
    "\n",
    "# correlation of every numeric feature with the binary target\n",
    "corr_with_target = (\n",
    "    df[num_cols]\n",
    "    .corr(numeric_only=True)['target']     # correlation vector vs target\n",
    "    .drop('target')                        # remove self-correlation\n",
    "    .sort_values(ascending=False)\n",
    ")\n",
    "\n",
    "print(\"Correlation with target (descending):\\n\")\n",
    "print(corr_with_target)\n",
    "\n",
    "# If you want the top N:\n",
    "print(\"\\nTop 10 features by |correlation|:\\n\")\n",
    "print(corr_with_target.abs().sort_values(ascending=False).head(10))"
   ]
  },
  {
   "cell_type": "code",
   "execution_count": 14,
   "metadata": {},
   "outputs": [
    {
     "data": {
      "image/png": "[encoded data removed]",
      "text/plain": [
       "<Figure size 640x480 with 1 Axes>"
      ]
     },
     "metadata": {},
     "output_type": "display_data"
    }
   ],
   "source": [
    "sns.kdeplot(data=df, x=\"Sleep Duration\", hue=\"target\", fill=True, common_norm=False,\n",
    "            palette={0:\"steelblue\", 1:\"coral\"})\n",
    "plt.title(\"Sleep Duration Distribution by Sleep Disorder\")\n",
    "plt.xlabel(\"Sleep Duration (hours)\")\n",
    "plt.ylabel(\"Density\")\n",
    "plt.legend([\"No disorder (0)\", \"Disorder (1)\"])\n",
    "plt.show()"
   ]
  },
  {
   "cell_type": "code",
   "execution_count": 15,
   "metadata": {},
   "outputs": [
    {
     "data": {
      "image/png": "[encoded data removed]",
      "text/plain": [
       "<Figure size 700x400 with 1 Axes>"
      ]
     },
     "metadata": {},
     "output_type": "display_data"
    }
   ],
   "source": [
    "q0 = df.loc[df[\"target\"]==0, \"Quality of Sleep\"].dropna()\n",
    "q1 = df.loc[df[\"target\"]==1, \"Quality of Sleep\"].dropna()\n",
    "\n",
    "plt.figure(figsize=(7,4))\n",
    "plt.hist(q0, bins=10, alpha=0.6, density=True, label=\"No disorder (0)\", color=\"steelblue\")\n",
    "plt.hist(q1, bins=10, alpha=0.6, density=True, label=\"Disorder (1)\", color=\"coral\")\n",
    "plt.xlabel(\"Quality of Sleep (1–10)\")\n",
    "plt.ylabel(\"Density\")\n",
    "plt.title(\"Quality of Sleep by Sleep Disorder\")\n",
    "plt.legend()\n",
    "plt.tight_layout()\n",
    "plt.show()"
   ]
  },
  {
   "cell_type": "code",
   "execution_count": 16,
   "metadata": {},
   "outputs": [
    {
     "data": {
      "text/plain": [
       "Index(['Person ID', 'Gender', 'Age', 'Occupation', 'Sleep Duration',\n",
       "       'Quality of Sleep', 'Physical Activity Level', 'Stress Level',\n",
       "       'Blood Pressure', 'Heart Rate', 'Daily Steps', 'Sleep Disorder',\n",
       "       'target', 'BMI_Obese', 'BMI_Overweight', 'Gender_Male', 'BP_Systolic',\n",
       "       'BP_Diastolic', 'BP_Normal', 'BP_Elevated', 'BP_HTN1', 'BP_HTN2',\n",
       "       'BP_Crisis', 'Pulse_Pressure', 'MAP', 'Occ_Accountant', 'Occ_Doctor',\n",
       "       'Occ_Engineer', 'Occ_Lawyer', 'Occ_Manager', 'Occ_Nurse',\n",
       "       'Occ_Sales Representative', 'Occ_Salesperson', 'Occ_Scientist',\n",
       "       'Occ_Software Engineer', 'Occ_Teacher'],\n",
       "      dtype='object')"
      ]
     },
     "execution_count": 16,
     "metadata": {},
     "output_type": "execute_result"
    }
   ],
   "source": [
    "df.columns"
   ]
  },
  {
   "cell_type": "markdown",
   "metadata": {},
   "source": [
    "We will need to exclude occupation categories with low representation\n"
   ]
  },
  {
   "cell_type": "code",
   "execution_count": 17,
   "metadata": {},
   "outputs": [
    {
     "data": {
      "text/plain": [
       "Occupation\n",
       "Nurse                   73\n",
       "Doctor                  71\n",
       "Engineer                63\n",
       "Lawyer                  47\n",
       "Teacher                 40\n",
       "Accountant              37\n",
       "Salesperson             32\n",
       "Software Engineer        4\n",
       "Scientist                4\n",
       "Sales Representative     2\n",
       "Manager                  1\n",
       "Name: count, dtype: int64"
      ]
     },
     "execution_count": 17,
     "metadata": {},
     "output_type": "execute_result"
    }
   ],
   "source": [
    "df[\"Occupation\"].value_counts()"
   ]
  },
  {
   "cell_type": "markdown",
   "metadata": {},
   "source": [
    "### Feature Selection"
   ]
  },
  {
   "cell_type": "code",
   "execution_count": 18,
   "metadata": {},
   "outputs": [],
   "source": [
    "dfm = df.copy()\n",
    "\n",
    "drop_cols = [\n",
    "    \"Person ID\",\n",
    "    \"Gender\",\n",
    "    \"Occupation\",\n",
    "    \"Blood Pressure\",\n",
    "    \"Sleep Disorder\",\n",
    "    \"BMI_Obsese\",\n",
    "    \"Stress Level\",\n",
    "    \"Occ_Sales\",\n",
    "    \"Representative\",\n",
    "    \"Physical Activity Level\",\n",
    "    \"Occ_Scientist\",\n",
    "    \"Daily Steps\",\n",
    "    \"Occ_Software Engineer\",\n",
    "    \"Occ_Scientist\",\n",
    "    \"Occ_Sales Representative\",\n",
    "    \"Occ_Manager\",\n",
    "    \"BP_Elevated\",\n",
    "    \"Occ_Accountant\",\n",
    "    \"Occ_Lawyer\",\n",
    "    \"BP_Crises\",\n",
    "    \"MAP\"\n",
    "]\n",
    "\n",
    "cols = ['Age','Sleep Duration','Quality of Sleep','Heart Rate','target',\n",
    "        'BMI_Obese','BMI_Overweight','Gender_Male','BP_Systolic','BP_Diastolic',\n",
    "        'BP_Normal','BP_HTN1','BP_HTN2','BP_Crisis','Pulse_Pressure',\n",
    "        'Occ_Doctor','Occ_Engineer','Occ_Nurse','Occ_Salesperson','Occ_Teacher']\n",
    "\n",
    "dfm = df[cols].copy()\n",
    "\n",
    "y = dfm['target'].astype(int).values\n",
    "X = dfm.drop(columns=['target']).copy()\n",
    "\n",
    "# Continuous features to scale (leave 0/1 dummies unscaled)\n",
    "cont_cols = ['Age','Sleep Duration','Quality of Sleep','Heart Rate',\n",
    "             'BP_Systolic','BP_Diastolic','Pulse_Pressure']\n",
    "\n",
    "# Binary dummies (0/1) – leave as-is\n",
    "bin_cols = [c for c in X.columns if c not in cont_cols]\n",
    "\n",
    "# Stratified split\n",
    "X_train, X_test, y_train, y_test = train_test_split(\n",
    "    X, y, test_size=0.2, stratify=y, random_state=42\n",
    ")"
   ]
  },
  {
   "cell_type": "markdown",
   "metadata": {},
   "source": [
    "Z-score normalization using TRAINING set statistics only"
   ]
  },
  {
   "cell_type": "code",
   "execution_count": 19,
   "metadata": {},
   "outputs": [
    {
     "name": "stdout",
     "output_type": "stream",
     "text": [
      "Shapes: (299, 19) (75, 19)\n"
     ]
    }
   ],
   "source": [
    "# z-score on train stats\n",
    "mu = X_train[cont_cols].mean()\n",
    "sd = X_train[cont_cols].std().replace(0, 1)\n",
    "\n",
    "X_train_s = X_train.copy()\n",
    "X_test_s  = X_test.copy()\n",
    "X_train_s[cont_cols] = (X_train[cont_cols] - mu) / sd\n",
    "X_test_s[cont_cols]  = (X_test[cont_cols]  - mu) / sd\n",
    "\n",
    "# Convert to float32 for Keras\n",
    "Xtr = X_train_s.values.astype('float32')\n",
    "Xte = X_test_s.values.astype('float32')\n",
    "ytr = y_train.astype('float32')\n",
    "yte = y_test.astype('float32')\n",
    "\n",
    "print(\"Shapes:\", Xtr.shape, Xte.shape)"
   ]
  },
  {
   "cell_type": "markdown",
   "metadata": {},
   "source": [
    "### Neural Network Architecture\n",
    "- **Smaller network** (32→16→1) suitable for dataset size\n",
    "- **L2 Regularization**: 1e-5 to prevent overfitting\n",
    "- **Dropout**: 10% rate for improved generalization\n",
    "- **Activation**: ReLU for hidden layers, sigmoid for binary output\n",
    "- **Loss**: Binary cross-entropy\n",
    "- **Optimizer**: Adam with tunable learning rate\n",
    "- **Metrics**: AUC (Area Under ROC Curve)"
   ]
  },
  {
   "cell_type": "code",
   "execution_count": 20,
   "metadata": {},
   "outputs": [
    {
     "name": "stdout",
     "output_type": "stream",
     "text": [
      "Class weights: {0: 0.8542857142857143, 1: 1.2056451612903225}\n"
     ]
    }
   ],
   "source": [
    "def build_model(input_dim, lr=1e-3, l2=1e-5, dropout=0.1):\n",
    "    reg = keras.regularizers.l2(l2) if l2 else None\n",
    "    m = keras.Sequential([\n",
    "        keras.layers.Input(shape=(input_dim,)),\n",
    "        keras.layers.Dense(32, activation=\"relu\", kernel_regularizer=reg),\n",
    "        keras.layers.Dropout(dropout),\n",
    "        keras.layers.Dense(16, activation=\"relu\", kernel_regularizer=reg),\n",
    "        keras.layers.Dense(1, activation=\"sigmoid\")\n",
    "    ])\n",
    "    m.compile(\n",
    "        optimizer=keras.optimizers.Adam(learning_rate=lr),\n",
    "        loss=\"binary_crossentropy\",\n",
    "        metrics=[keras.metrics.AUC(name=\"auc\")]\n",
    "    )\n",
    "    return m\n",
    "\n",
    "# Class weights (helpful if imbalance)\n",
    "pos = int((y_train==1).sum()); neg = int((y_train==0).sum()); tot = len(y_train)\n",
    "class_weight = {0: tot/(2*neg), 1: tot/(2*pos)}\n",
    "print(\"Class weights:\", class_weight)"
   ]
  },
  {
   "cell_type": "markdown",
   "metadata": {},
   "source": [
    "#### Grid Search Configuration\n",
    "Systematic exploration of hyperparameter space:\n",
    "- **Learning Rates**: [2e-4, 5e-4, 1e-3, 2e-3]\n",
    "- **Batch Sizes**: [8, 16, 32, 64]\n",
    "- **Epochs**: 200 (with early stopping)\n",
    "- **Early Stopping**: Patience=10, monitoring val_loss\n",
    "\n",
    "Each learning rate × batch size combination evaluated:\n",
    "- Total configurations tested: 4 × 4 = 16\n",
    "- Selection criterion: Maximum F1 score\n",
    "- Validation split: 20% of training data"
   ]
  },
  {
   "cell_type": "code",
   "execution_count": 21,
   "metadata": {},
   "outputs": [
    {
     "name": "stdout",
     "output_type": "stream",
     "text": [
      "LR=0.0002 | BS=8   | Acc=0.893  AUC=0.959  F1=0.879\n",
      "LR=0.0002 | BS=16  | Acc=0.907  AUC=0.957  F1=0.892\n",
      "WARNING:tensorflow:5 out of the last 7 calls to <function TensorFlowTrainer.make_predict_function.<locals>.one_step_on_data_distributed at 0x30b3f16c0> triggered tf.function retracing. Tracing is expensive and the excessive number of tracings could be due to (1) creating @tf.function repeatedly in a loop, (2) passing tensors with different shapes, (3) passing Python objects instead of tensors. For (1), please define your @tf.function outside of the loop. For (2), @tf.function has reduce_retracing=True option that can avoid unnecessary retracing. For (3), please refer to https://www.tensorflow.org/guide/function#controlling_retracing and https://www.tensorflow.org/api_docs/python/tf/function for  more details.\n",
      "WARNING:tensorflow:6 out of the last 9 calls to <function TensorFlowTrainer.make_predict_function.<locals>.one_step_on_data_distributed at 0x30b3f16c0> triggered tf.function retracing. Tracing is expensive and the excessive number of tracings could be due to (1) creating @tf.function repeatedly in a loop, (2) passing tensors with different shapes, (3) passing Python objects instead of tensors. For (1), please define your @tf.function outside of the loop. For (2), @tf.function has reduce_retracing=True option that can avoid unnecessary retracing. For (3), please refer to https://www.tensorflow.org/guide/function#controlling_retracing and https://www.tensorflow.org/api_docs/python/tf/function for  more details.\n",
      "LR=0.0002 | BS=32  | Acc=0.907  AUC=0.966  F1=0.892\n",
      "LR=0.0002 | BS=64  | Acc=0.893  AUC=0.961  F1=0.879\n",
      "LR=0.0005 | BS=8   | Acc=0.907  AUC=0.960  F1=0.892\n",
      "LR=0.0005 | BS=16  | Acc=0.893  AUC=0.967  F1=0.879\n",
      "LR=0.0005 | BS=32  | Acc=0.907  AUC=0.974  F1=0.892\n",
      "LR=0.0005 | BS=64  | Acc=0.907  AUC=0.966  F1=0.892\n",
      "LR=0.001  | BS=8   | Acc=0.893  AUC=0.965  F1=0.879\n",
      "LR=0.001  | BS=16  | Acc=0.920  AUC=0.964  F1=0.906\n",
      "LR=0.001  | BS=32  | Acc=0.893  AUC=0.965  F1=0.879\n",
      "LR=0.001  | BS=64  | Acc=0.920  AUC=0.963  F1=0.906\n",
      "LR=0.002  | BS=8   | Acc=0.893  AUC=0.967  F1=0.879\n",
      "LR=0.002  | BS=16  | Acc=0.893  AUC=0.957  F1=0.879\n",
      "LR=0.002  | BS=32  | Acc=0.907  AUC=0.965  F1=0.892\n",
      "LR=0.002  | BS=64  | Acc=0.907  AUC=0.969  F1=0.892\n",
      "\n",
      "Best combo (by F1): LR=1e-03, Batch=16 | Acc=0.920  AUC=0.964  F1=0.906\n"
     ]
    }
   ],
   "source": [
    "tf.keras.utils.set_random_seed(42)\n",
    "\n",
    "lrs = [2e-4, 5e-4, 1e-3, 2e-3]\n",
    "bss = [8, 16, 32, 64]\n",
    "pat = 10\n",
    "\n",
    "results = []\n",
    "for lr in lrs:\n",
    "    for bs in bss:\n",
    "        model = build_model(Xtr.shape[1], lr=lr, l2=1e-5, dropout=0.1)\n",
    "        es = keras.callbacks.EarlyStopping(monitor=\"val_loss\", patience=pat, restore_best_weights=True)\n",
    "        model.fit(\n",
    "            Xtr, ytr, validation_split=0.2, epochs=200, batch_size=bs,\n",
    "            callbacks=[es], class_weight=class_weight, verbose=0\n",
    "        )\n",
    "        p = model.predict(Xte, verbose=0).ravel()\n",
    "        yhat = (p >= 0.5).astype(int)\n",
    "\n",
    "        acc = accuracy_score(yte, yhat)\n",
    "        auc = roc_auc_score(yte, p)\n",
    "        f1  = f1_score(yte, yhat)\n",
    "\n",
    "        results.append((lr, bs, acc, auc, f1))\n",
    "        print(f\"LR={lr:<6} | BS={bs:<3} | Acc={acc:.3f}  AUC={auc:.3f}  F1={f1:.3f}\")\n",
    "\n",
    "# Best by F1 (change index 4→3 to pick by AUC)\n",
    "best = max(results, key=lambda x: x[4])\n",
    "print(\"\\nBest combo (by F1): LR=%.0e, Batch=%d | Acc=%.3f  AUC=%.3f  F1=%.3f\"\n",
    "      % (best[0], best[1], best[2], best[3], best[4]))"
   ]
  },
  {
   "cell_type": "markdown",
   "metadata": {},
   "source": [
    "**Best Hyperparameters Found:**\n",
    "- **Learning Rate**: 1e-3\n",
    "- **Batch Size**: 16"
   ]
  },
  {
   "cell_type": "markdown",
   "metadata": {},
   "source": [
    "### Final Refit + Evaluation (best settings)"
   ]
  },
  {
   "cell_type": "code",
   "execution_count": 22,
   "metadata": {},
   "outputs": [
    {
     "name": "stdout",
     "output_type": "stream",
     "text": [
      "Epoch 1/200\n",
      "\u001b[1m15/15\u001b[0m \u001b[32m━━━━━━━━━━━━━━━━━━━━\u001b[0m\u001b[37m\u001b[0m \u001b[1m1s\u001b[0m 13ms/step - auc: 0.7441 - loss: 0.6624 - val_auc: 0.8825 - val_loss: 0.5283\n",
      "Epoch 2/200\n",
      "\u001b[1m15/15\u001b[0m \u001b[32m━━━━━━━━━━━━━━━━━━━━\u001b[0m\u001b[37m\u001b[0m \u001b[1m0s\u001b[0m 3ms/step - auc: 0.9104 - loss: 0.5696 - val_auc: 0.8986 - val_loss: 0.4866\n",
      "Epoch 3/200\n",
      "\u001b[1m15/15\u001b[0m \u001b[32m━━━━━━━━━━━━━━━━━━━━\u001b[0m\u001b[37m\u001b[0m \u001b[1m0s\u001b[0m 3ms/step - auc: 0.9456 - loss: 0.4992 - val_auc: 0.9005 - val_loss: 0.4487\n",
      "Epoch 4/200\n",
      "\u001b[1m15/15\u001b[0m \u001b[32m━━━━━━━━━━━━━━━━━━━━\u001b[0m\u001b[37m\u001b[0m \u001b[1m0s\u001b[0m 3ms/step - auc: 0.9428 - loss: 0.4494 - val_auc: 0.8973 - val_loss: 0.4149\n",
      "Epoch 5/200\n",
      "\u001b[1m15/15\u001b[0m \u001b[32m━━━━━━━━━━━━━━━━━━━━\u001b[0m\u001b[37m\u001b[0m \u001b[1m0s\u001b[0m 3ms/step - auc: 0.9523 - loss: 0.3935 - val_auc: 0.9069 - val_loss: 0.3829\n",
      "Epoch 6/200\n",
      "\u001b[1m15/15\u001b[0m \u001b[32m━━━━━━━━━━━━━━━━━━━━\u001b[0m\u001b[37m\u001b[0m \u001b[1m0s\u001b[0m 2ms/step - auc: 0.9516 - loss: 0.3558 - val_auc: 0.9095 - val_loss: 0.3564\n",
      "Epoch 7/200\n",
      "\u001b[1m15/15\u001b[0m \u001b[32m━━━━━━━━━━━━━━━━━━━━\u001b[0m\u001b[37m\u001b[0m \u001b[1m0s\u001b[0m 2ms/step - auc: 0.9457 - loss: 0.3182 - val_auc: 0.9063 - val_loss: 0.3377\n",
      "Epoch 8/200\n",
      "\u001b[1m15/15\u001b[0m \u001b[32m━━━━━━━━━━━━━━━━━━━━\u001b[0m\u001b[37m\u001b[0m \u001b[1m0s\u001b[0m 2ms/step - auc: 0.9474 - loss: 0.2918 - val_auc: 0.9063 - val_loss: 0.3231\n",
      "Epoch 9/200\n",
      "\u001b[1m15/15\u001b[0m \u001b[32m━━━━━━━━━━━━━━━━━━━━\u001b[0m\u001b[37m\u001b[0m \u001b[1m0s\u001b[0m 2ms/step - auc: 0.9490 - loss: 0.2690 - val_auc: 0.9056 - val_loss: 0.3138\n",
      "Epoch 10/200\n",
      "\u001b[1m15/15\u001b[0m \u001b[32m━━━━━━━━━━━━━━━━━━━━\u001b[0m\u001b[37m\u001b[0m \u001b[1m0s\u001b[0m 2ms/step - auc: 0.9464 - loss: 0.2624 - val_auc: 0.9082 - val_loss: 0.3087\n",
      "Epoch 11/200\n",
      "\u001b[1m15/15\u001b[0m \u001b[32m━━━━━━━━━━━━━━━━━━━━\u001b[0m\u001b[37m\u001b[0m \u001b[1m0s\u001b[0m 2ms/step - auc: 0.9436 - loss: 0.2556 - val_auc: 0.9044 - val_loss: 0.3068\n",
      "Epoch 12/200\n",
      "\u001b[1m15/15\u001b[0m \u001b[32m━━━━━━━━━━━━━━━━━━━━\u001b[0m\u001b[37m\u001b[0m \u001b[1m0s\u001b[0m 2ms/step - auc: 0.9457 - loss: 0.2562 - val_auc: 0.9050 - val_loss: 0.3057\n",
      "Epoch 13/200\n",
      "\u001b[1m15/15\u001b[0m \u001b[32m━━━━━━━━━━━━━━━━━━━━\u001b[0m\u001b[37m\u001b[0m \u001b[1m0s\u001b[0m 2ms/step - auc: 0.9425 - loss: 0.2555 - val_auc: 0.9044 - val_loss: 0.3054\n",
      "Epoch 14/200\n",
      "\u001b[1m15/15\u001b[0m \u001b[32m━━━━━━━━━━━━━━━━━━━━\u001b[0m\u001b[37m\u001b[0m \u001b[1m0s\u001b[0m 2ms/step - auc: 0.9538 - loss: 0.2323 - val_auc: 0.9056 - val_loss: 0.3053\n",
      "Epoch 15/200\n",
      "\u001b[1m15/15\u001b[0m \u001b[32m━━━━━━━━━━━━━━━━━━━━\u001b[0m\u001b[37m\u001b[0m \u001b[1m0s\u001b[0m 3ms/step - auc: 0.9528 - loss: 0.2292 - val_auc: 0.9056 - val_loss: 0.3055\n",
      "Epoch 16/200\n",
      "\u001b[1m15/15\u001b[0m \u001b[32m━━━━━━━━━━━━━━━━━━━━\u001b[0m\u001b[37m\u001b[0m \u001b[1m0s\u001b[0m 3ms/step - auc: 0.9636 - loss: 0.2163 - val_auc: 0.9037 - val_loss: 0.3064\n",
      "Epoch 17/200\n",
      "\u001b[1m15/15\u001b[0m \u001b[32m━━━━━━━━━━━━━━━━━━━━\u001b[0m\u001b[37m\u001b[0m \u001b[1m0s\u001b[0m 2ms/step - auc: 0.9563 - loss: 0.2292 - val_auc: 0.9063 - val_loss: 0.3066\n",
      "Epoch 18/200\n",
      "\u001b[1m15/15\u001b[0m \u001b[32m━━━━━━━━━━━━━━━━━━━━\u001b[0m\u001b[37m\u001b[0m \u001b[1m0s\u001b[0m 2ms/step - auc: 0.9456 - loss: 0.2390 - val_auc: 0.9069 - val_loss: 0.3066\n",
      "Epoch 19/200\n",
      "\u001b[1m15/15\u001b[0m \u001b[32m━━━━━━━━━━━━━━━━━━━━\u001b[0m\u001b[37m\u001b[0m \u001b[1m0s\u001b[0m 2ms/step - auc: 0.9485 - loss: 0.2390 - val_auc: 0.9108 - val_loss: 0.3071\n",
      "Epoch 20/200\n",
      "\u001b[1m15/15\u001b[0m \u001b[32m━━━━━━━━━━━━━━━━━━━━\u001b[0m\u001b[37m\u001b[0m \u001b[1m0s\u001b[0m 2ms/step - auc: 0.9424 - loss: 0.2440 - val_auc: 0.9121 - val_loss: 0.3073\n",
      "Epoch 21/200\n",
      "\u001b[1m15/15\u001b[0m \u001b[32m━━━━━━━━━━━━━━━━━━━━\u001b[0m\u001b[37m\u001b[0m \u001b[1m0s\u001b[0m 2ms/step - auc: 0.9498 - loss: 0.2383 - val_auc: 0.9127 - val_loss: 0.3070\n",
      "Epoch 22/200\n",
      "\u001b[1m15/15\u001b[0m \u001b[32m━━━━━━━━━━━━━━━━━━━━\u001b[0m\u001b[37m\u001b[0m \u001b[1m0s\u001b[0m 2ms/step - auc: 0.9504 - loss: 0.2307 - val_auc: 0.9127 - val_loss: 0.3064\n",
      "Epoch 23/200\n",
      "\u001b[1m15/15\u001b[0m \u001b[32m━━━━━━━━━━━━━━━━━━━━\u001b[0m\u001b[37m\u001b[0m \u001b[1m0s\u001b[0m 2ms/step - auc: 0.9524 - loss: 0.2275 - val_auc: 0.9127 - val_loss: 0.3063\n",
      "Epoch 24/200\n",
      "\u001b[1m15/15\u001b[0m \u001b[32m━━━━━━━━━━━━━━━━━━━━\u001b[0m\u001b[37m\u001b[0m \u001b[1m0s\u001b[0m 2ms/step - auc: 0.9583 - loss: 0.2238 - val_auc: 0.9127 - val_loss: 0.3065\n",
      "\n",
      "Final Test Results | Acc=0.920  AUC=0.964  F1=0.906\n",
      "\n",
      "Confusion Matrix:\n",
      " [[40  4]\n",
      " [ 2 29]]\n",
      "\n",
      "Classification Report:\n",
      "               precision    recall  f1-score   support\n",
      "\n",
      "         0.0      0.952     0.909     0.930        44\n",
      "         1.0      0.879     0.935     0.906        31\n",
      "\n",
      "    accuracy                          0.920        75\n",
      "   macro avg      0.916     0.922     0.918        75\n",
      "weighted avg      0.922     0.920     0.920        75\n",
      "\n"
     ]
    }
   ],
   "source": [
    "best_lr = 1e-3\n",
    "best_bs = 16\n",
    "\n",
    "final_model = build_model(Xtr.shape[1], lr=best_lr, l2=1e-5, dropout=0.1)\n",
    "\n",
    "# Early stopping ensures the model stops when validation loss stops improving\n",
    "early_stop = keras.callbacks.EarlyStopping(\n",
    "    monitor=\"val_loss\",\n",
    "    patience=10,\n",
    "    restore_best_weights=True\n",
    ")\n",
    "\n",
    "# --- Refit using the full training set (with val split) ---\n",
    "history = final_model.fit(\n",
    "    Xtr, ytr,\n",
    "    validation_split=0.2,\n",
    "    epochs=200,\n",
    "    batch_size=best_bs,\n",
    "    callbacks=[early_stop],\n",
    "    class_weight=class_weight,\n",
    "    verbose=1\n",
    ")\n",
    "\n",
    "# --- Evaluate on the test set ---\n",
    "from sklearn.metrics import accuracy_score, roc_auc_score, f1_score, classification_report, confusion_matrix\n",
    "\n",
    "# Predict probabilities & classes\n",
    "pred_probs = final_model.predict(Xte, verbose=0).ravel()\n",
    "y_pred = (pred_probs >= 0.5).astype(int)\n",
    "\n",
    "# Compute metrics\n",
    "acc = accuracy_score(yte, y_pred)\n",
    "auc = roc_auc_score(yte, pred_probs)\n",
    "f1 = f1_score(yte, y_pred)\n",
    "\n",
    "print(f\"\\nFinal Test Results | Acc={acc:.3f}  AUC={auc:.3f}  F1={f1:.3f}\")\n",
    "print(\"\\nConfusion Matrix:\\n\", confusion_matrix(yte, y_pred))\n",
    "print(\"\\nClassification Report:\\n\", classification_report(yte, y_pred, digits=3))"
   ]
  },
  {
   "cell_type": "code",
   "execution_count": 23,
   "metadata": {},
   "outputs": [
    {
     "name": "stdout",
     "output_type": "stream",
     "text": [
      "Best epoch (by val_loss): 14\n",
      "Val AUC at best epoch: 0.9056482315063477\n"
     ]
    }
   ],
   "source": [
    "best_epoch = int(np.argmin(history.history[\"val_loss\"])) + 1\n",
    "print(\"Best epoch (by val_loss):\", best_epoch)\n",
    "print(\"Val AUC at best epoch:\", history.history[\"val_auc\"][best_epoch-1])"
   ]
  },
  {
   "cell_type": "markdown",
   "metadata": {},
   "source": [
    "### Cross-Validation Analysis"
   ]
  },
  {
   "cell_type": "markdown",
   "metadata": {},
   "source": [
    "Configuration\n",
    "- 5 folds with shuffle\n",
    "- Stratification maintains target distribution in each fold\n",
    "- Same architecture and hyperparameters across folds"
   ]
  },
  {
   "cell_type": "code",
   "execution_count": 24,
   "metadata": {},
   "outputs": [
    {
     "name": "stdout",
     "output_type": "stream",
     "text": [
      "Fold 1: Acc=0.947  AUC=0.948  F1=0.931\n",
      "Fold 2: Acc=0.947  AUC=0.947  F1=0.935\n",
      "Fold 3: Acc=0.920  AUC=0.951  F1=0.903\n",
      "Fold 4: Acc=0.947  AUC=0.951  F1=0.938\n",
      "Fold 5: Acc=0.919  AUC=0.916  F1=0.906\n",
      "\n",
      "5-Fold CV Summary:\n",
      "Accuracy : 0.936 ± 0.013\n",
      "ROC-AUC  : 0.943 ± 0.013\n",
      "F1       : 0.923 ± 0.015\n"
     ]
    }
   ],
   "source": [
    "cont_cols = ['Age','Sleep Duration','Quality of Sleep','Heart Rate',\n",
    "             'BP_Systolic','BP_Diastolic','Pulse_Pressure']\n",
    "\n",
    "y_np = np.asarray(y, dtype=np.float32)\n",
    "X_cols = X.columns.tolist()\n",
    "\n",
    "def build_model(input_dim, lr=1e-3, l2=1e-5, dropout=0.1):\n",
    "    reg = keras.regularizers.l2(l2) if l2 else None\n",
    "    m = keras.Sequential([\n",
    "        keras.layers.Input(shape=(input_dim,)),\n",
    "        keras.layers.Dense(32, activation=\"relu\", kernel_regularizer=reg),\n",
    "        keras.layers.Dropout(dropout),\n",
    "        keras.layers.Dense(16, activation=\"relu\", kernel_regularizer=reg),\n",
    "        keras.layers.Dense(1, activation=\"sigmoid\")\n",
    "    ])\n",
    "    m.compile(\n",
    "        optimizer=keras.optimizers.Adam(learning_rate=lr),\n",
    "        loss=\"binary_crossentropy\",\n",
    "        metrics=[keras.metrics.AUC(name=\"auc\")]\n",
    "    )\n",
    "    return m\n",
    "\n",
    "# K-fold CV\n",
    "kf = StratifiedKFold(n_splits=5, shuffle=True, random_state=42)\n",
    "accs, aucs, f1s = [], [], []\n",
    "\n",
    "fold = 0\n",
    "for tr_idx, te_idx in kf.split(X, y_np):\n",
    "    fold += 1\n",
    "\n",
    "    X_tr_df = X.iloc[tr_idx].copy()\n",
    "    X_te_df = X.iloc[te_idx].copy()\n",
    "    y_tr = y_np[tr_idx]\n",
    "    y_te = y_np[te_idx]\n",
    "\n",
    "    # scale continuous columns using *train fold* stats only\n",
    "    mu = X_tr_df[cont_cols].mean()\n",
    "    sd = X_tr_df[cont_cols].std().replace(0, 1)\n",
    "    X_tr_df[cont_cols] = (X_tr_df[cont_cols] - mu) / sd\n",
    "    X_te_df[cont_cols] = (X_te_df[cont_cols] - mu) / sd\n",
    "\n",
    "    # to float32 arrays\n",
    "    X_tr = X_tr_df.values.astype(\"float32\")\n",
    "    X_te = X_te_df.values.astype(\"float32\")\n",
    "\n",
    "    # class weights per fold (handle imbalance)\n",
    "    pos = int((y_tr == 1).sum())\n",
    "    neg = int((y_tr == 0).sum())\n",
    "    tot = len(y_tr)\n",
    "    class_weight = {0: tot/(2*neg), 1: tot/(2*pos)}\n",
    "\n",
    "    # build & train\n",
    "    tf.keras.utils.set_random_seed(42)\n",
    "    model = build_model(X_tr.shape[1], lr=1e-3, l2=1e-5, dropout=0.1)\n",
    "\n",
    "    es = keras.callbacks.EarlyStopping(monitor=\"val_loss\", patience=10, restore_best_weights=True)\n",
    "\n",
    "    model.fit(\n",
    "        X_tr, y_tr,\n",
    "        validation_split=0.2,\n",
    "        epochs=200,\n",
    "        batch_size=16,\n",
    "        callbacks=[es],\n",
    "        class_weight=class_weight,\n",
    "        verbose=0\n",
    "    )\n",
    "\n",
    "    # evaluate on the held-out fold\n",
    "    p = model.predict(X_te, verbose=0).ravel()\n",
    "    yhat = (p >= 0.5).astype(int)\n",
    "\n",
    "    acc = accuracy_score(y_te, yhat)\n",
    "    auc = roc_auc_score(y_te, p)\n",
    "    f1  = f1_score(y_te, yhat)\n",
    "\n",
    "    accs.append(acc); aucs.append(auc); f1s.append(f1)\n",
    "    print(f\"Fold {fold}: Acc={acc:.3f}  AUC={auc:.3f}  F1={f1:.3f}\")\n",
    "\n",
    "# Summary\n",
    "print(\"\\n5-Fold CV Summary:\")\n",
    "print(\"Accuracy : %.3f ± %.3f\" % (np.mean(accs), np.std(accs)))\n",
    "print(\"ROC-AUC  : %.3f ± %.3f\" % (np.mean(aucs), np.std(aucs)))\n",
    "print(\"F1       : %.3f ± %.3f\" % (np.mean(f1s), np.std(f1s)))"
   ]
  },
  {
   "cell_type": "markdown",
   "metadata": {},
   "source": [
    "- Very consistent performance across folds\n",
    "- Low standard deviations (±0.02) indicate the model has good stability and generalizability\n",
    "- Model not overfitting to specific train-test splits."
   ]
  }
 ],
 "metadata": {
  "kernelspec": {
   "display_name": "Python 3",
   "language": "python",
   "name": "python3"
  },
  "language_info": {
   "codemirror_mode": {
    "name": "ipython",
    "version": 3
   },
   "file_extension": ".py",
   "mimetype": "text/x-python",
   "name": "python",
   "nbconvert_exporter": "python",
   "pygments_lexer": "ipython3",
   "version": "3.11.4"
  }
 },
 "nbformat": 4,
 "nbformat_minor": 2
}
